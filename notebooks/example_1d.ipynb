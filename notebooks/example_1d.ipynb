{
 "cells": [
  {
   "cell_type": "code",
   "execution_count": 1,
   "id": "58f1a92f-881b-4533-b1b5-4c32238ee831",
   "metadata": {},
   "outputs": [],
   "source": [
    "import torch\n",
    "import torch.nn as nn\n",
    "import torch.nn.functional as F\n",
    "import torch.optim as optim\n",
    "\n",
    "from triangular_map import *\n",
    "\n",
    "from torch.utils.data import TensorDataset, Dataset, DataLoader\n",
    "import torch.utils.data.dataloader as dataloader\n",
    "\n",
    "import os, math, random, time\n",
    "from tqdm import tqdm\n",
    "import numpy as np\n",
    "import matplotlib.pyplot as plt\n",
    "import scipy"
   ]
  },
  {
   "cell_type": "code",
   "execution_count": 2,
   "id": "104aa436-54d3-4c98-8b28-7391b879b73e",
   "metadata": {},
   "outputs": [],
   "source": [
    "device = torch.device(\"cuda\" if torch.cuda.is_available() else \"cpu\")\n",
    "torch.set_float32_matmul_precision('high')"
   ]
  },
  {
   "cell_type": "code",
   "execution_count": 3,
   "id": "e3ed29a4-b6b7-4111-92cc-079790ce4bfa",
   "metadata": {},
   "outputs": [
    {
     "data": {
      "text/plain": [
       "(tensor(1.7193e-06), True)"
      ]
     },
     "execution_count": 3,
     "metadata": {},
     "output_type": "execute_result"
    }
   ],
   "source": [
    "Y = torch.linspace(-2.5, 3.7, 11)\n",
    "Z = F.softplus(Y)\n",
    "Y_lo = -torch.ones_like(Y)\n",
    "Y_hi =  torch.ones_like(Y)\n",
    "torch_find_bracket_inplace(Z, F.softplus, Y_lo, Y_hi)\n",
    "Y_bisect,bisect_conv = torch_bisect(Z, F.softplus, Y_lo, Y_hi)\n",
    "(Y - Y_bisect).norm(), bisect_conv"
   ]
  },
  {
   "cell_type": "code",
   "execution_count": 4,
   "id": "ba707056-bcbd-45f6-adae-889e263158fb",
   "metadata": {},
   "outputs": [],
   "source": [
    "def GMM_sample_1d(N: int, centers, stds, weights):\n",
    "    which_centers = torch.multinomial(weights, N, replacement=True)\n",
    "    samples = centers[which_centers] + torch.randn(N)*stds[which_centers]\n",
    "    # samples = (samples - samples.mean()) / samples.std()\n",
    "    return samples, TensorDataset(samples[:,None])"
   ]
  },
  {
   "cell_type": "code",
   "execution_count": 5,
   "id": "3a704f58-a830-4117-8ffa-ea629262a206",
   "metadata": {},
   "outputs": [],
   "source": [
    "def normpdf(grid):\n",
    "    sqrt_2pi = np.sqrt(2*np.pi)\n",
    "    return (-0.5*grid**2).exp()/sqrt_2pi\n",
    "def GMM_eval(grid, centers, stds, weights):\n",
    "    weights = weights / weights.sum()\n",
    "    return (normpdf(((grid[:,None] - centers) / stds))/ stds) @ weights"
   ]
  },
  {
   "cell_type": "code",
   "execution_count": 6,
   "id": "bf46fca2-384c-442b-8fa7-197a2d9f178c",
   "metadata": {},
   "outputs": [
    {
     "data": {
      "image/png": "[encoded data removed]",
      "text/plain": [
       "<Figure size 640x480 with 1 Axes>"
      ]
     },
     "metadata": {},
     "output_type": "display_data"
    }
   ],
   "source": [
    "centers, stds, weights = torch.Tensor([-5,4]), torch.Tensor([0.01,0.02]), torch.Tensor([3,2])\n",
    "train_samples, training_data = GMM_sample_1d(5000, centers, stds, weights)\n",
    "test_samples, test_data = GMM_sample_1d(5000, centers, stds, weights)\n",
    "\n",
    "train_loader = DataLoader(training_data, batch_size=64, shuffle=True)\n",
    "test_loader = DataLoader(test_data, batch_size=64, shuffle=True)\n",
    "plt.hist(train_samples, density=True, bins=50)\n",
    "plt.show()"
   ]
  },
  {
   "cell_type": "code",
   "execution_count": 7,
   "id": "0ba76ad7-9c6a-48b0-8076-b88149c28863",
   "metadata": {
    "scrolled": true
   },
   "outputs": [
    {
     "data": {
      "text/plain": [
       "(torch.Size([11, 1]), torch.Size([7, 1]))"
      ]
     },
     "execution_count": 7,
     "metadata": {},
     "output_type": "execute_result"
    }
   ],
   "source": [
    "N_quad = 128\n",
    "quad_pts, quad_wts = clenshaw_curtis_ab(N_quad)\n",
    "\n",
    "S1 = TriangularComponent(1, quad_pts, quad_wts, int_nonlinearity=nn.Softplus, normalization_layer=None, device=device)\n",
    "S1.compile()\n",
    "with torch.no_grad():\n",
    "    test_output = S1(torch.randn(11,1, device=device)).shape, S1.logdet(torch.randn(7,1, device=device)).shape\n",
    "test_output"
   ]
  },
  {
   "cell_type": "code",
   "execution_count": 8,
   "id": "ca84119f-613e-4194-9d9c-f982705bafb7",
   "metadata": {
    "scrolled": true
   },
   "outputs": [
    {
     "name": "stderr",
     "output_type": "stream",
     "text": [
      "100%|██████████████████████████████████████████████████████████████| 79/79 [00:02<00:00, 33.32it/s]\n"
     ]
    },
    {
     "name": "stdout",
     "output_type": "stream",
     "text": [
      "\n",
      "Epoch: 0 Train Loss: 189.6615\n"
     ]
    },
    {
     "name": "stderr",
     "output_type": "stream",
     "text": [
      "100%|█████████████████████████████████████████████████████████████| 79/79 [00:00<00:00, 478.44it/s]\n"
     ]
    },
    {
     "name": "stdout",
     "output_type": "stream",
     "text": [
      "\n",
      "Epoch: 1 Train Loss: 121.9882\n"
     ]
    },
    {
     "name": "stderr",
     "output_type": "stream",
     "text": [
      "100%|█████████████████████████████████████████████████████████████| 79/79 [00:00<00:00, 480.67it/s]\n"
     ]
    },
    {
     "name": "stdout",
     "output_type": "stream",
     "text": [
      "\n",
      "Epoch: 2 Train Loss: 83.2952\n"
     ]
    },
    {
     "name": "stderr",
     "output_type": "stream",
     "text": [
      "100%|█████████████████████████████████████████████████████████████| 79/79 [00:00<00:00, 478.24it/s]\n"
     ]
    },
    {
     "name": "stdout",
     "output_type": "stream",
     "text": [
      "\n",
      "Epoch: 3 Train Loss: 50.3411\n"
     ]
    },
    {
     "name": "stderr",
     "output_type": "stream",
     "text": [
      "100%|█████████████████████████████████████████████████████████████| 79/79 [00:00<00:00, 481.43it/s]\n"
     ]
    },
    {
     "name": "stdout",
     "output_type": "stream",
     "text": [
      "\n",
      "Epoch: 4 Train Loss: 27.0272\n"
     ]
    },
    {
     "name": "stderr",
     "output_type": "stream",
     "text": [
      "100%|█████████████████████████████████████████████████████████████| 79/79 [00:00<00:00, 480.52it/s]\n"
     ]
    },
    {
     "name": "stdout",
     "output_type": "stream",
     "text": [
      "\n",
      "Epoch: 5 Train Loss: -0.3722\n"
     ]
    },
    {
     "name": "stderr",
     "output_type": "stream",
     "text": [
      "100%|█████████████████████████████████████████████████████████████| 79/79 [00:00<00:00, 481.56it/s]\n"
     ]
    },
    {
     "name": "stdout",
     "output_type": "stream",
     "text": [
      "\n",
      "Epoch: 6 Train Loss: -17.1439\n"
     ]
    },
    {
     "name": "stderr",
     "output_type": "stream",
     "text": [
      "100%|█████████████████████████████████████████████████████████████| 79/79 [00:00<00:00, 481.83it/s]\n"
     ]
    },
    {
     "name": "stdout",
     "output_type": "stream",
     "text": [
      "\n",
      "Epoch: 7 Train Loss: -54.4470\n"
     ]
    },
    {
     "name": "stderr",
     "output_type": "stream",
     "text": [
      "100%|█████████████████████████████████████████████████████████████| 79/79 [00:00<00:00, 481.09it/s]\n"
     ]
    },
    {
     "name": "stdout",
     "output_type": "stream",
     "text": [
      "\n",
      "Epoch: 8 Train Loss: -83.1501\n"
     ]
    },
    {
     "name": "stderr",
     "output_type": "stream",
     "text": [
      "100%|█████████████████████████████████████████████████████████████| 79/79 [00:00<00:00, 480.16it/s]\n"
     ]
    },
    {
     "name": "stdout",
     "output_type": "stream",
     "text": [
      "\n",
      "Epoch: 9 Train Loss: -93.2596\n"
     ]
    },
    {
     "name": "stderr",
     "output_type": "stream",
     "text": [
      "100%|█████████████████████████████████████████████████████████████| 79/79 [00:00<00:00, 481.84it/s]\n"
     ]
    },
    {
     "name": "stdout",
     "output_type": "stream",
     "text": [
      "\n",
      "Epoch: 10 Train Loss: -100.6393\n"
     ]
    },
    {
     "name": "stderr",
     "output_type": "stream",
     "text": [
      "100%|█████████████████████████████████████████████████████████████| 79/79 [00:00<00:00, 481.79it/s]\n"
     ]
    },
    {
     "name": "stdout",
     "output_type": "stream",
     "text": [
      "\n",
      "Epoch: 11 Train Loss: -106.7024\n"
     ]
    },
    {
     "name": "stderr",
     "output_type": "stream",
     "text": [
      "100%|█████████████████████████████████████████████████████████████| 79/79 [00:00<00:00, 482.05it/s]\n"
     ]
    },
    {
     "name": "stdout",
     "output_type": "stream",
     "text": [
      "\n",
      "Epoch: 12 Train Loss: -111.6779\n"
     ]
    },
    {
     "name": "stderr",
     "output_type": "stream",
     "text": [
      "100%|█████████████████████████████████████████████████████████████| 79/79 [00:00<00:00, 487.33it/s]\n"
     ]
    },
    {
     "name": "stdout",
     "output_type": "stream",
     "text": [
      "\n",
      "Epoch: 13 Train Loss: -115.9525\n"
     ]
    },
    {
     "name": "stderr",
     "output_type": "stream",
     "text": [
      "100%|█████████████████████████████████████████████████████████████| 79/79 [00:00<00:00, 492.37it/s]\n"
     ]
    },
    {
     "name": "stdout",
     "output_type": "stream",
     "text": [
      "\n",
      "Epoch: 14 Train Loss: -119.7265\n"
     ]
    },
    {
     "name": "stderr",
     "output_type": "stream",
     "text": [
      "100%|█████████████████████████████████████████████████████████████| 79/79 [00:00<00:00, 495.49it/s]\n"
     ]
    },
    {
     "name": "stdout",
     "output_type": "stream",
     "text": [
      "\n",
      "Epoch: 15 Train Loss: -123.1148\n"
     ]
    },
    {
     "name": "stderr",
     "output_type": "stream",
     "text": [
      "100%|█████████████████████████████████████████████████████████████| 79/79 [00:00<00:00, 489.83it/s]\n"
     ]
    },
    {
     "name": "stdout",
     "output_type": "stream",
     "text": [
      "\n",
      "Epoch: 16 Train Loss: -126.0439\n"
     ]
    },
    {
     "name": "stderr",
     "output_type": "stream",
     "text": [
      "100%|█████████████████████████████████████████████████████████████| 79/79 [00:00<00:00, 501.96it/s]\n"
     ]
    },
    {
     "name": "stdout",
     "output_type": "stream",
     "text": [
      "\n",
      "Epoch: 17 Train Loss: -128.1333\n"
     ]
    },
    {
     "name": "stderr",
     "output_type": "stream",
     "text": [
      "100%|█████████████████████████████████████████████████████████████| 79/79 [00:00<00:00, 502.45it/s]\n"
     ]
    },
    {
     "name": "stdout",
     "output_type": "stream",
     "text": [
      "\n",
      "Epoch: 18 Train Loss: -130.6585\n"
     ]
    },
    {
     "name": "stderr",
     "output_type": "stream",
     "text": [
      "100%|█████████████████████████████████████████████████████████████| 79/79 [00:00<00:00, 505.14it/s]\n"
     ]
    },
    {
     "name": "stdout",
     "output_type": "stream",
     "text": [
      "\n",
      "Epoch: 19 Train Loss: -133.2526\n"
     ]
    },
    {
     "name": "stderr",
     "output_type": "stream",
     "text": [
      "100%|█████████████████████████████████████████████████████████████| 79/79 [00:00<00:00, 505.51it/s]\n"
     ]
    },
    {
     "name": "stdout",
     "output_type": "stream",
     "text": [
      "\n",
      "Epoch: 20 Train Loss: -135.2626\n"
     ]
    },
    {
     "name": "stderr",
     "output_type": "stream",
     "text": [
      "100%|█████████████████████████████████████████████████████████████| 79/79 [00:00<00:00, 504.70it/s]\n"
     ]
    },
    {
     "name": "stdout",
     "output_type": "stream",
     "text": [
      "\n",
      "Epoch: 21 Train Loss: -137.1801\n"
     ]
    },
    {
     "name": "stderr",
     "output_type": "stream",
     "text": [
      "100%|█████████████████████████████████████████████████████████████| 79/79 [00:00<00:00, 504.87it/s]\n"
     ]
    },
    {
     "name": "stdout",
     "output_type": "stream",
     "text": [
      "\n",
      "Epoch: 22 Train Loss: -139.0316\n"
     ]
    },
    {
     "name": "stderr",
     "output_type": "stream",
     "text": [
      "100%|█████████████████████████████████████████████████████████████| 79/79 [00:00<00:00, 504.77it/s]\n"
     ]
    },
    {
     "name": "stdout",
     "output_type": "stream",
     "text": [
      "\n",
      "Epoch: 23 Train Loss: -140.7335\n"
     ]
    },
    {
     "name": "stderr",
     "output_type": "stream",
     "text": [
      "100%|█████████████████████████████████████████████████████████████| 79/79 [00:00<00:00, 505.21it/s]\n"
     ]
    },
    {
     "name": "stdout",
     "output_type": "stream",
     "text": [
      "\n",
      "Epoch: 24 Train Loss: -142.3431\n"
     ]
    },
    {
     "name": "stderr",
     "output_type": "stream",
     "text": [
      "100%|█████████████████████████████████████████████████████████████| 79/79 [00:00<00:00, 510.63it/s]\n"
     ]
    },
    {
     "name": "stdout",
     "output_type": "stream",
     "text": [
      "\n",
      "Epoch: 25 Train Loss: -143.6177\n"
     ]
    },
    {
     "name": "stderr",
     "output_type": "stream",
     "text": [
      "100%|█████████████████████████████████████████████████████████████| 79/79 [00:00<00:00, 510.82it/s]\n"
     ]
    },
    {
     "name": "stdout",
     "output_type": "stream",
     "text": [
      "\n",
      "Epoch: 26 Train Loss: -145.1557\n"
     ]
    },
    {
     "name": "stderr",
     "output_type": "stream",
     "text": [
      "100%|█████████████████████████████████████████████████████████████| 79/79 [00:00<00:00, 510.66it/s]\n"
     ]
    },
    {
     "name": "stdout",
     "output_type": "stream",
     "text": [
      "\n",
      "Epoch: 27 Train Loss: -146.8195\n"
     ]
    },
    {
     "name": "stderr",
     "output_type": "stream",
     "text": [
      "100%|█████████████████████████████████████████████████████████████| 79/79 [00:00<00:00, 506.68it/s]\n"
     ]
    },
    {
     "name": "stdout",
     "output_type": "stream",
     "text": [
      "\n",
      "Epoch: 28 Train Loss: -146.8000\n"
     ]
    },
    {
     "name": "stderr",
     "output_type": "stream",
     "text": [
      "100%|█████████████████████████████████████████████████████████████| 79/79 [00:00<00:00, 511.18it/s]\n"
     ]
    },
    {
     "name": "stdout",
     "output_type": "stream",
     "text": [
      "\n",
      "Epoch: 29 Train Loss: -148.8560\n"
     ]
    },
    {
     "name": "stderr",
     "output_type": "stream",
     "text": [
      "100%|█████████████████████████████████████████████████████████████| 79/79 [00:00<00:00, 508.87it/s]\n"
     ]
    },
    {
     "name": "stdout",
     "output_type": "stream",
     "text": [
      "\n",
      "Epoch: 30 Train Loss: -150.4615\n"
     ]
    },
    {
     "name": "stderr",
     "output_type": "stream",
     "text": [
      "100%|█████████████████████████████████████████████████████████████| 79/79 [00:00<00:00, 511.21it/s]\n"
     ]
    },
    {
     "name": "stdout",
     "output_type": "stream",
     "text": [
      "\n",
      "Epoch: 31 Train Loss: -151.7001\n"
     ]
    },
    {
     "name": "stderr",
     "output_type": "stream",
     "text": [
      "100%|█████████████████████████████████████████████████████████████| 79/79 [00:00<00:00, 511.09it/s]\n"
     ]
    },
    {
     "name": "stdout",
     "output_type": "stream",
     "text": [
      "\n",
      "Epoch: 32 Train Loss: -152.5154\n"
     ]
    },
    {
     "name": "stderr",
     "output_type": "stream",
     "text": [
      "100%|█████████████████████████████████████████████████████████████| 79/79 [00:00<00:00, 511.28it/s]\n"
     ]
    },
    {
     "name": "stdout",
     "output_type": "stream",
     "text": [
      "\n",
      "Epoch: 33 Train Loss: -153.7165\n"
     ]
    },
    {
     "name": "stderr",
     "output_type": "stream",
     "text": [
      "100%|█████████████████████████████████████████████████████████████| 79/79 [00:00<00:00, 508.87it/s]\n"
     ]
    },
    {
     "name": "stdout",
     "output_type": "stream",
     "text": [
      "\n",
      "Epoch: 34 Train Loss: -154.0360\n"
     ]
    },
    {
     "name": "stderr",
     "output_type": "stream",
     "text": [
      "100%|█████████████████████████████████████████████████████████████| 79/79 [00:00<00:00, 511.20it/s]\n"
     ]
    },
    {
     "name": "stdout",
     "output_type": "stream",
     "text": [
      "\n",
      "Epoch: 35 Train Loss: -154.7166\n"
     ]
    },
    {
     "name": "stderr",
     "output_type": "stream",
     "text": [
      "100%|█████████████████████████████████████████████████████████████| 79/79 [00:00<00:00, 510.94it/s]\n"
     ]
    },
    {
     "name": "stdout",
     "output_type": "stream",
     "text": [
      "\n",
      "Epoch: 36 Train Loss: -156.2371\n"
     ]
    },
    {
     "name": "stderr",
     "output_type": "stream",
     "text": [
      "100%|█████████████████████████████████████████████████████████████| 79/79 [00:00<00:00, 505.09it/s]\n"
     ]
    },
    {
     "name": "stdout",
     "output_type": "stream",
     "text": [
      "\n",
      "Epoch: 37 Train Loss: -157.5749\n"
     ]
    },
    {
     "name": "stderr",
     "output_type": "stream",
     "text": [
      "100%|█████████████████████████████████████████████████████████████| 79/79 [00:00<00:00, 504.42it/s]\n"
     ]
    },
    {
     "name": "stdout",
     "output_type": "stream",
     "text": [
      "\n",
      "Epoch: 38 Train Loss: -158.1901\n"
     ]
    },
    {
     "name": "stderr",
     "output_type": "stream",
     "text": [
      "100%|█████████████████████████████████████████████████████████████| 79/79 [00:00<00:00, 512.61it/s]\n"
     ]
    },
    {
     "name": "stdout",
     "output_type": "stream",
     "text": [
      "\n",
      "Epoch: 39 Train Loss: -158.5557\n"
     ]
    },
    {
     "name": "stderr",
     "output_type": "stream",
     "text": [
      "100%|█████████████████████████████████████████████████████████████| 79/79 [00:00<00:00, 521.91it/s]\n"
     ]
    },
    {
     "name": "stdout",
     "output_type": "stream",
     "text": [
      "\n",
      "Epoch: 40 Train Loss: -158.9418\n"
     ]
    },
    {
     "name": "stderr",
     "output_type": "stream",
     "text": [
      "100%|█████████████████████████████████████████████████████████████| 79/79 [00:00<00:00, 517.47it/s]\n"
     ]
    },
    {
     "name": "stdout",
     "output_type": "stream",
     "text": [
      "\n",
      "Epoch: 41 Train Loss: -160.5463\n"
     ]
    },
    {
     "name": "stderr",
     "output_type": "stream",
     "text": [
      "100%|█████████████████████████████████████████████████████████████| 79/79 [00:00<00:00, 522.58it/s]\n"
     ]
    },
    {
     "name": "stdout",
     "output_type": "stream",
     "text": [
      "\n",
      "Epoch: 42 Train Loss: -161.4880\n"
     ]
    },
    {
     "name": "stderr",
     "output_type": "stream",
     "text": [
      "100%|█████████████████████████████████████████████████████████████| 79/79 [00:00<00:00, 522.28it/s]\n"
     ]
    },
    {
     "name": "stdout",
     "output_type": "stream",
     "text": [
      "\n",
      "Epoch: 43 Train Loss: -161.1229\n"
     ]
    },
    {
     "name": "stderr",
     "output_type": "stream",
     "text": [
      "100%|█████████████████████████████████████████████████████████████| 79/79 [00:00<00:00, 521.91it/s]\n"
     ]
    },
    {
     "name": "stdout",
     "output_type": "stream",
     "text": [
      "\n",
      "Epoch: 44 Train Loss: -162.5238\n"
     ]
    },
    {
     "name": "stderr",
     "output_type": "stream",
     "text": [
      "100%|█████████████████████████████████████████████████████████████| 79/79 [00:00<00:00, 521.39it/s]\n"
     ]
    },
    {
     "name": "stdout",
     "output_type": "stream",
     "text": [
      "\n",
      "Epoch: 45 Train Loss: -163.0485\n"
     ]
    },
    {
     "name": "stderr",
     "output_type": "stream",
     "text": [
      "100%|█████████████████████████████████████████████████████████████| 79/79 [00:00<00:00, 521.63it/s]\n"
     ]
    },
    {
     "name": "stdout",
     "output_type": "stream",
     "text": [
      "\n",
      "Epoch: 46 Train Loss: -163.7883\n"
     ]
    },
    {
     "name": "stderr",
     "output_type": "stream",
     "text": [
      "100%|█████████████████████████████████████████████████████████████| 79/79 [00:00<00:00, 519.40it/s]\n"
     ]
    },
    {
     "name": "stdout",
     "output_type": "stream",
     "text": [
      "\n",
      "Epoch: 47 Train Loss: -164.8392\n"
     ]
    },
    {
     "name": "stderr",
     "output_type": "stream",
     "text": [
      "100%|█████████████████████████████████████████████████████████████| 79/79 [00:00<00:00, 522.23it/s]\n"
     ]
    },
    {
     "name": "stdout",
     "output_type": "stream",
     "text": [
      "\n",
      "Epoch: 48 Train Loss: -164.6704\n"
     ]
    },
    {
     "name": "stderr",
     "output_type": "stream",
     "text": [
      "100%|█████████████████████████████████████████████████████████████| 79/79 [00:00<00:00, 522.27it/s]"
     ]
    },
    {
     "name": "stdout",
     "output_type": "stream",
     "text": [
      "\n",
      "Epoch: 49 Train Loss: -165.3260\n",
      "Took 10.151945114135742s\n"
     ]
    },
    {
     "name": "stderr",
     "output_type": "stream",
     "text": [
      "\n"
     ]
    }
   ],
   "source": [
    "optimizer = optim.Adam(S1.parameters(), lr=1e-2)\n",
    "S1.compile()\n",
    "start = time.time()\n",
    "for epoch in range(50):\n",
    "  S1.train()\n",
    "  train_loss = 0\n",
    "  for (X,) in tqdm(train_loader):\n",
    "      X = X.to(device)\n",
    "      optimizer.zero_grad()\n",
    "      Z = S1(X)\n",
    "      nabla_S = S1.logdet(X)\n",
    "\n",
    "      # KL loss = int -log [p(S(X)) |d S(X)| dX\n",
    "      # log p(Z) = C - 1/2 |Z|^2\n",
    "      loss = (0.5*Z.square().sum(axis=-1) - nabla_S).sum()\n",
    "\n",
    "      loss.backward()\n",
    "      train_loss += loss.item()\n",
    "      optimizer.step()\n",
    "\n",
    "  print('\\nEpoch: {} Train Loss: {:.4f}'.format(epoch, train_loss / len(train_loader.dataset)))\n",
    "elapsed = time.time() - start\n",
    "print(f'Took {elapsed}s')"
   ]
  },
  {
   "cell_type": "code",
   "execution_count": 9,
   "id": "cb6d5e0d-3f14-4f42-badb-d45a7ef6d652",
   "metadata": {},
   "outputs": [],
   "source": [
    "eval_grid_x = np.linspace(-10, 10, 600, dtype=np.float32)\n",
    "eval_grid_x_torch = torch.tensor(eval_grid_x[:,None], device=device)\n",
    "eval_grid_z_torch = (-0.5*S1(eval_grid_x_torch)**2 + S1.logdet(eval_grid_x_torch)).exp()\n",
    "eval_grid_z = eval_grid_z_torch.cpu().detach().numpy()[:]"
   ]
  },
  {
   "cell_type": "code",
   "execution_count": 10,
   "id": "9b3e492e-36ba-4968-b3bf-27f3c8ba0173",
   "metadata": {},
   "outputs": [
    {
     "name": "stdout",
     "output_type": "stream",
     "text": [
      "WARNING: Bisect inversion did not converge\n"
     ]
    }
   ],
   "source": [
    "samps = sample_normal_ref(S1, 5000, device=device)"
   ]
  },
  {
   "cell_type": "code",
   "execution_count": 11,
   "id": "83ad4398-bf8a-4f8c-9b64-73b2028f1e6b",
   "metadata": {},
   "outputs": [
    {
     "data": {
      "image/png": "[encoded data removed]",
      "text/plain": [
       "<Figure size 900x450 with 2 Axes>"
      ]
     },
     "metadata": {},
     "output_type": "display_data"
    }
   ],
   "source": [
    "fig, (ax1, ax2) = plt.subplots(1,2, figsize=(9,4.5))\n",
    "ax1.hist(samps.cpu().detach().numpy(), bins=100, alpha=0.33, density=True)\n",
    "ax1.hist(train_samples, bins=50, alpha=0.33, density=True)\n",
    "ax1.hist(test_samples, bins=50, alpha=0.33, density=True)\n",
    "ax1.legend(['Generated Samples', 'Training samples', 'True samples'],loc='upper center')\n",
    "ax1.set_xlabel('x')\n",
    "ax1.set_ylabel('Frequency')\n",
    "ax1.set_title(f\"Sampling, Q={N_quad}\")\n",
    "ax2.plot(eval_grid_x, GMM_eval(torch.Tensor(eval_grid_x), centers, stds, weights))\n",
    "ax2.plot(eval_grid_x, eval_grid_z)\n",
    "ax2.legend([\"True pdf\", \"Estimated pdf\"])\n",
    "ax2.set_xlabel(\"x\")\n",
    "ax2.set_ylabel(r\"$\\pi(x)$\")\n",
    "ax2.set_title(r\"Comparing the true and estimated pdfs\")\n",
    "fig.savefig(f\"figs/one_dim_approx_{N_quad}.png\")\n",
    "fig.show()"
   ]
  }
 ],
 "metadata": {
  "kernelspec": {
   "display_name": "Python 3 (ipykernel)",
   "language": "python",
   "name": "python3"
  },
  "language_info": {
   "codemirror_mode": {
    "name": "ipython",
    "version": 3
   },
   "file_extension": ".py",
   "mimetype": "text/x-python",
   "name": "python",
   "nbconvert_exporter": "python",
   "pygments_lexer": "ipython3",
   "version": "3.10.15"
  }
 },
 "nbformat": 4,
 "nbformat_minor": 5
}
